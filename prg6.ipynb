{
 "cells": [
  {
   "cell_type": "markdown",
   "id": "aad640e3-2dd7-476e-998d-8db65fa98e4f",
   "metadata": {},
   "source": [
    "#### 6. Implement Bi-directional LSTM for Sentiment analysis on movie reviews. "
   ]
  },
  {
   "cell_type": "code",
   "execution_count": 13,
   "id": "43050f9e-d4bf-482c-9d3b-f8096205e79b",
   "metadata": {},
   "outputs": [
    {
     "name": "stdout",
     "output_type": "stream",
     "text": [
      "Epoch 1/5\n",
      "\u001b[1m313/313\u001b[0m \u001b[32m━━━━━━━━━━━━━━━━━━━━\u001b[0m\u001b[37m\u001b[0m \u001b[1m20s\u001b[0m 49ms/step - accuracy: 0.6815 - loss: 0.5702 - val_accuracy: 0.8542 - val_loss: 0.3453\n",
      "Epoch 2/5\n",
      "\u001b[1m313/313\u001b[0m \u001b[32m━━━━━━━━━━━━━━━━━━━━\u001b[0m\u001b[37m\u001b[0m \u001b[1m15s\u001b[0m 48ms/step - accuracy: 0.9011 - loss: 0.2594 - val_accuracy: 0.8574 - val_loss: 0.3220\n",
      "Epoch 3/5\n",
      "\u001b[1m313/313\u001b[0m \u001b[32m━━━━━━━━━━━━━━━━━━━━\u001b[0m\u001b[37m\u001b[0m \u001b[1m14s\u001b[0m 46ms/step - accuracy: 0.9356 - loss: 0.1778 - val_accuracy: 0.8550 - val_loss: 0.3749\n",
      "Epoch 4/5\n",
      "\u001b[1m313/313\u001b[0m \u001b[32m━━━━━━━━━━━━━━━━━━━━\u001b[0m\u001b[37m\u001b[0m \u001b[1m15s\u001b[0m 46ms/step - accuracy: 0.9533 - loss: 0.1340 - val_accuracy: 0.8678 - val_loss: 0.3708\n",
      "Epoch 5/5\n",
      "\u001b[1m313/313\u001b[0m \u001b[32m━━━━━━━━━━━━━━━━━━━━\u001b[0m\u001b[37m\u001b[0m \u001b[1m15s\u001b[0m 48ms/step - accuracy: 0.9655 - loss: 0.1010 - val_accuracy: 0.8236 - val_loss: 0.4593\n",
      "\u001b[1m782/782\u001b[0m \u001b[32m━━━━━━━━━━━━━━━━━━━━\u001b[0m\u001b[37m\u001b[0m \u001b[1m9s\u001b[0m 11ms/step - accuracy: 0.8287 - loss: 0.4585\n",
      "Test Accuracy: 0.83\n",
      "WARNING:tensorflow:5 out of the last 5 calls to <function TensorFlowTrainer.make_predict_function.<locals>.one_step_on_data_distributed at 0x000002478E77FA60> triggered tf.function retracing. Tracing is expensive and the excessive number of tracings could be due to (1) creating @tf.function repeatedly in a loop, (2) passing tensors with different shapes, (3) passing Python objects instead of tensors. For (1), please define your @tf.function outside of the loop. For (2), @tf.function has reduce_retracing=True option that can avoid unnecessary retracing. For (3), please refer to https://www.tensorflow.org/guide/function#controlling_retracing and https://www.tensorflow.org/api_docs/python/tf/function for  more details.\n",
      "\u001b[1m1/1\u001b[0m \u001b[32m━━━━━━━━━━━━━━━━━━━━\u001b[0m\u001b[37m\u001b[0m \u001b[1m0s\u001b[0m 362ms/step\n",
      "Positive sentiment with confidence 0.74\n"
     ]
    }
   ],
   "source": [
    "import tensorflow as tf\n",
    "from tensorflow.keras.datasets import imdb\n",
    "from tensorflow.keras.preprocessing.sequence import pad_sequences\n",
    "from tensorflow.keras.models import Sequential\n",
    "from tensorflow.keras.layers import Embedding, Bidirectional, LSTM, Dense\n",
    "\n",
    "# Parameters\n",
    "max_features = 10000  # Top 10000 most common words\n",
    "max_len = 200  # Max length of each review\n",
    "\n",
    "# Load and preprocess data\n",
    "(x_train, y_train), (x_test, y_test) = imdb.load_data(num_words=max_features)\n",
    "x_train, x_test = map(lambda x: pad_sequences(x, maxlen=max_len), (x_train, x_test))\n",
    "\n",
    "# Build, compile, and train the model\n",
    "model = Sequential([\n",
    "    Embedding(input_dim=max_features, output_dim=64, input_length=max_len),\n",
    "    Bidirectional(LSTM(32)),\n",
    "    Dense(1, activation='sigmoid')\n",
    "])\n",
    "model.compile(optimizer='adam', loss='binary_crossentropy', metrics=['accuracy'])\n",
    "model.fit(x_train, y_train, epochs=5, batch_size=64, validation_split=0.2)\n",
    "\n",
    "# Evaluate the model\n",
    "print(f\"Test Accuracy: {model.evaluate(x_test, y_test)[1]:.2f}\")\n",
    "\n",
    "# Test on a custom review\n",
    "example_review = \"The movie was absolutely amazing, I loved it!\"\n",
    "encoded_review = [imdb.get_word_index().get(word, 2) for word in example_review.lower().split()]\n",
    "padded_review = pad_sequences([encoded_review], maxlen=max_len)\n",
    "prediction = model.predict(padded_review)[0][0]\n",
    "print(f\"{'Positive' if prediction < 0.5 else 'Negative'} sentiment with confidence {1 - prediction if prediction < 0.5 else prediction:.2f}\")"
   ]
  }
 ],
 "metadata": {
  "kernelspec": {
   "display_name": "Python 3 (ipykernel)",
   "language": "python",
   "name": "python3"
  },
  "language_info": {
   "codemirror_mode": {
    "name": "ipython",
    "version": 3
   },
   "file_extension": ".py",
   "mimetype": "text/x-python",
   "name": "python",
   "nbconvert_exporter": "python",
   "pygments_lexer": "ipython3",
   "version": "3.12.4"
  }
 },
 "nbformat": 4,
 "nbformat_minor": 5
}
